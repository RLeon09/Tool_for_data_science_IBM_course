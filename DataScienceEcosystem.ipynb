{
 "cells": [
  {
   "cell_type": "markdown",
   "id": "06a650b4-5da6-4e49-bfee-2608009e1a44",
   "metadata": {},
   "source": [
    "# Data Science Tools and Ecosystem"
   ]
  },
  {
   "cell_type": "markdown",
   "id": "6c82ff5b-ca2d-4ccd-94d1-f91a3df655cf",
   "metadata": {},
   "source": [
    "In this notebook, Data Science Tools and Ecosystem are summarized."
   ]
  },
  {
   "cell_type": "markdown",
   "id": "125bdc1f-c139-4399-84fb-768fcd36c4cd",
   "metadata": {},
   "source": [
    "Some of the popular languages that Data Scientists use are:\n",
    "1. Python.\n",
    "2. R.\n",
    "3. Go.\n"
   ]
  },
  {
   "cell_type": "markdown",
   "id": "8bf0922b-52c5-4c9d-8f16-42aae25670eb",
   "metadata": {},
   "source": [
    "Some of the commonly used libraries used by Data Scientists include:\n",
    "1. Pandas.\n",
    "2. Matplotlib.\n",
    "3. Numpy.\n",
    "4. Scikit-learn."
   ]
  },
  {
   "cell_type": "markdown",
   "id": "367093f2-c12f-473f-afd8-84f76a9c91f3",
   "metadata": {},
   "source": [
    "| Data Science Tools | \n",
    "|---|\n",
    "| Jupyter Notebook | \n",
    "| Colab | \n",
    "| VS Code |\n",
    "| Anaconda |\n",
    "\n"
   ]
  },
  {
   "cell_type": "markdown",
   "id": "11de0abb-c880-4683-8920-d3299bb16e4a",
   "metadata": {},
   "source": [
    "Below are a few of evaluating aritmetic expresion in Python."
   ]
  },
  {
   "cell_type": "code",
   "execution_count": 1,
   "id": "a2f5ffcd-9629-42f0-b4aa-7c5f4d445f98",
   "metadata": {
    "tags": []
   },
   "outputs": [
    {
     "data": {
      "text/plain": [
       "17"
      ]
     },
     "execution_count": 1,
     "metadata": {},
     "output_type": "execute_result"
    }
   ],
   "source": [
    "# This a simple arithmetic expression to mutiply then add integers\n",
    "(3*4)+5\n",
    "\n"
   ]
  },
  {
   "cell_type": "code",
   "execution_count": 7,
   "id": "a4beeabb-e0df-4d65-82ac-614b76d82ae7",
   "metadata": {
    "tags": []
   },
   "outputs": [
    {
     "data": {
      "text/plain": [
       "3.3333333333333335"
      ]
     },
     "execution_count": 7,
     "metadata": {},
     "output_type": "execute_result"
    }
   ],
   "source": [
    "# This will convert 200 minutes to hours by diving by 60\n",
    "200/60"
   ]
  },
  {
   "cell_type": "markdown",
   "id": "ddba5fe0-ace1-4622-b693-582353665930",
   "metadata": {},
   "source": [
    "Objectives:\n",
    "- List popular languages for Data Science.\n",
    "- List popular Data Science Tools.\n",
    "- List popular Libraries used by Data Scientists.\n",
    "- Some code examples."
   ]
  },
  {
   "cell_type": "markdown",
   "id": "1e668bdc-a8b9-45c7-a13a-030ade538baa",
   "metadata": {},
   "source": [
    "# Author\n",
    "Randy León."
   ]
  },
  {
   "cell_type": "code",
   "execution_count": null,
   "id": "4080d59c-08ef-4f0a-b54f-3c9886eda4f0",
   "metadata": {},
   "outputs": [],
   "source": []
  }
 ],
 "metadata": {
  "kernelspec": {
   "display_name": "Python",
   "language": "python",
   "name": "conda-env-python-py"
  },
  "language_info": {
   "codemirror_mode": {
    "name": "ipython",
    "version": 3
   },
   "file_extension": ".py",
   "mimetype": "text/x-python",
   "name": "python",
   "nbconvert_exporter": "python",
   "pygments_lexer": "ipython3",
   "version": "3.7.12"
  }
 },
 "nbformat": 4,
 "nbformat_minor": 5
}
